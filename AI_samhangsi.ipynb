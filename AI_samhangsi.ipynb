{
  "nbformat": 4,
  "nbformat_minor": 0,
  "metadata": {
    "colab": {
      "provenance": []
    },
    "kernelspec": {
      "name": "python3",
      "display_name": "Python 3"
    },
    "language_info": {
      "name": "python"
    }
  },
  "cells": [
    {
      "cell_type": "code",
      "execution_count": null,
      "metadata": {
        "id": "HeGr0wMCMLp6"
      },
      "outputs": [],
      "source": [
        "!pip install openai --quiet"
      ]
    },
    {
      "cell_type": "code",
      "source": [
        "from openai import OpenAI\n",
        "client = OpenAI(api_key=\"자신의 키를 입력하세요.\")"
      ],
      "metadata": {
        "id": "GQcQ1mS9MR6E"
      },
      "execution_count": null,
      "outputs": []
    },
    {
      "cell_type": "code",
      "source": [
        "# 구글 드라이브 마운트\n",
        "from google.colab import drive\n",
        "drive.mount('/content/drive')"
      ],
      "metadata": {
        "colab": {
          "base_uri": "https://localhost:8080/"
        },
        "id": "TBWG5MotQylU",
        "outputId": "aaee2cd1-d952-4795-9a1a-3a65e200f26f"
      },
      "execution_count": null,
      "outputs": [
        {
          "output_type": "stream",
          "name": "stdout",
          "text": [
            "Drive already mounted at /content/drive; to attempt to forcibly remount, call drive.mount(\"/content/drive\", force_remount=True).\n"
          ]
        }
      ]
    },
    {
      "cell_type": "code",
      "source": [
        "import os\n",
        "import pandas as pd\n",
        "import json\n",
        "\n",
        "# 파일 경로 설정\n",
        "base_path = '/content/drive/MyDrive/Colab Notebooks/ChatGPT'\n",
        "excel_file_path = os.path.join(base_path, \"samhangsi_pms_2.xlsx\")\n",
        "jsonl_file_name = \"samhangsi_pms_2.jsonl\"\n",
        "\n",
        "# JSONL 파일로 저장할 함수 정의\n",
        "def write_jsonl(filename, data):\n",
        "    with open(filename, 'w', encoding='utf-8') as f:\n",
        "        for item in data:\n",
        "            json_record = json.dumps(item, ensure_ascii=False)\n",
        "            f.write(json_record + '\\n')\n",
        "\n",
        "# Excel 파일 읽기\n",
        "df = pd.read_excel(excel_file_path)\n",
        "\n",
        "# 결과를 저장할 리스트\n",
        "dialogue_pairs = []\n",
        "\n",
        "# 각 행에 대해 대화쌍 생성\n",
        "for _, row in df.iterrows():\n",
        "    pair = {\n",
        "        \"messages\": [\n",
        "            {\n",
        "                \"role\": \"system\",\n",
        "                \"content\": \"당신은 재치있고 웃기는 n행시를 쓰는 AI입니다. 글자수에 맞게 써주세요.\"\n",
        "            },\n",
        "            {\n",
        "                \"role\": \"user\",\n",
        "                \"content\": f\"'{row['소재']}'라는 단어로 {len(row['소재'])}행시 써주세요.\"\n",
        "            },\n",
        "            {\n",
        "                \"role\": \"assistant\",\n",
        "                \"content\": row['n행시'],\n",
        "                # \"weight\": 1\n",
        "            }\n",
        "        ]\n",
        "    }\n",
        "    dialogue_pairs.append(pair)\n",
        "\n",
        "# JSONL 파일로 저장\n",
        "write_jsonl(jsonl_file_name, dialogue_pairs)\n",
        "\n",
        "print(f\"변환이 완료되었습니다. 결과가 '{jsonl_file_name}' 파일에 저장되었습니다.\")"
      ],
      "metadata": {
        "colab": {
          "base_uri": "https://localhost:8080/"
        },
        "id": "YJ1-AFneMShp",
        "outputId": "5972ddb7-17ce-4e68-d5e5-096c53d91886"
      },
      "execution_count": null,
      "outputs": [
        {
          "output_type": "stream",
          "name": "stdout",
          "text": [
            "변환이 완료되었습니다. 결과가 'samhangsi_pms_2.jsonl' 파일에 저장되었습니다.\n"
          ]
        }
      ]
    },
    {
      "cell_type": "code",
      "source": [
        "# 파인튜닝용 파일 생성하기\n",
        "input_file = client.files.create(\n",
        "  file=open(\"samhangsi_pms_2.jsonl\", \"rb\"),\n",
        "  purpose=\"fine-tune\"\n",
        ")"
      ],
      "metadata": {
        "id": "RP4Sn1NuRtI-"
      },
      "execution_count": null,
      "outputs": []
    },
    {
      "cell_type": "code",
      "source": [
        "# suffix 리스트 정의\n",
        "suffix_list = [\"pms_silhum\", \"pms_real\"]\n",
        "\n",
        "# 사용할 suffix 선택 (예: 리스트의 첫 번째 항목 사용)\n",
        "# selected_suffix = suffix_list[0]\n",
        "selected_suffix = suffix_list[1]\n",
        "\n",
        "# fine-tuning job 생성\n",
        "ft_job = client.fine_tuning.jobs.create(\n",
        "    training_file=input_file.id,\n",
        "    model=\"gpt-4o-mini-2024-07-18\",\n",
        "    hyperparameters={\n",
        "        \"batch_size\": 1,\n",
        "        \"n_epochs\": 3,\n",
        "        \"learning_rate_multiplier\": 1.8,\n",
        "    },\n",
        "    suffix=selected_suffix\n",
        ")"
      ],
      "metadata": {
        "id": "r707goWgRj0l"
      },
      "execution_count": null,
      "outputs": []
    },
    {
      "cell_type": "code",
      "source": [
        "# 이 코드를 갱신해야 아래 것도 갱신이 됨.\n",
        "ft_info = client.fine_tuning.jobs.retrieve(ft_job.id)\n",
        "ft_info.id"
      ],
      "metadata": {
        "colab": {
          "base_uri": "https://localhost:8080/",
          "height": 36
        },
        "id": "Hj8SpLBsSm87",
        "outputId": "a254df6d-45b0-4045-baca-2f3546b8c7c9"
      },
      "execution_count": null,
      "outputs": [
        {
          "output_type": "execute_result",
          "data": {
            "text/plain": [
              "'ftjob-IqIXAzQQYcDQChgr4YfqVL54'"
            ],
            "application/vnd.google.colaboratory.intrinsic+json": {
              "type": "string"
            }
          },
          "metadata": {},
          "execution_count": 65
        }
      ]
    },
    {
      "cell_type": "code",
      "source": [
        "# 이거가 갱신\n",
        "ft_info.status"
      ],
      "metadata": {
        "colab": {
          "base_uri": "https://localhost:8080/",
          "height": 36
        },
        "id": "WaGBj1rnTKkb",
        "outputId": "2d5cb78c-141e-4514-f46f-acfedbc52c2c"
      },
      "execution_count": null,
      "outputs": [
        {
          "output_type": "execute_result",
          "data": {
            "text/plain": [
              "'succeeded'"
            ],
            "application/vnd.google.colaboratory.intrinsic+json": {
              "type": "string"
            }
          },
          "metadata": {},
          "execution_count": 66
        }
      ]
    },
    {
      "cell_type": "code",
      "source": [
        "import pickle\n",
        "import os\n",
        "\n",
        "# 기본 경로 설정 (이미 설정되었다고 가정)\n",
        "base_path = '/content/drive/MyDrive/Colab Notebooks/ChatGPT'\n",
        "\n",
        "# pickle 파일 경로\n",
        "silhum_path = os.path.join(base_path, 'models_silhum.pkl')\n",
        "real_path = os.path.join(base_path, 'models_real.pkl')\n",
        "\n",
        "# 기존 데이터 불러오기 (파일이 없거나 손상되었으면 빈 리스트 생성)\n",
        "def load_or_create(file_path):\n",
        "    if os.path.exists(file_path):\n",
        "        try:\n",
        "            with open(file_path, 'rb') as f:\n",
        "                return pickle.load(f)\n",
        "        except (EOFError, pickle.UnpicklingError):\n",
        "            print(f\"Warning: 파일 '{file_path}'를 읽는 데 문제가 발생했습니다. 새로운 빈 리스트를 생성합니다.\")\n",
        "    return []\n",
        "\n",
        "models_silhum = load_or_create(silhum_path)\n",
        "models_real = load_or_create(real_path)\n",
        "\n",
        "if ft_info.fine_tuned_model == None:\n",
        "    model_name = None\n",
        "else:\n",
        "    model_name = ft_info.fine_tuned_model\n",
        "# model_name = None\n",
        "\n",
        "# 새 모델 이름 추가\n",
        "if model_name == None:\n",
        "    model_name = \"silhum\"\n",
        "else:\n",
        "    model_name = ft_info.fine_tuned_model\n",
        "\n",
        "if \"silhum\" in model_name:\n",
        "    if model_name == \"silhum\":\n",
        "        pass\n",
        "    if model_name not in models_silhum:\n",
        "        models_silhum.append(model_name)\n",
        "        print(f\"실험모델에 '{model_name}'가 추가되었습니다.\")\n",
        "    else:\n",
        "        print(f\"'{model_name}'는 이미 실험모델 목록에 있습니다.\")\n",
        "else:\n",
        "    if model_name not in models_real:\n",
        "        models_real.append(model_name)\n",
        "        print(f\"사용모델에 '{model_name}'가 추가되었습니다.\")\n",
        "    else:\n",
        "        print(f\"'{model_name}'는 이미 사용모델 목록에 있습니다.\")\n",
        "\n",
        "# 업데이트된 리스트 저장\n",
        "with open(silhum_path, 'wb') as f:\n",
        "    pickle.dump(models_silhum, f)\n",
        "\n",
        "with open(real_path, 'wb') as f:\n",
        "    pickle.dump(models_real, f)\n",
        "\n",
        "print(f\"모델 이름이 {base_path} 경로에 저장되었습니다.\")\n",
        "\n",
        "# 저장된 리스트 출력\n",
        "print(\"저장된 실험 모델:\", models_silhum)\n",
        "print(\"저장된 사용 모델:\", models_real)"
      ],
      "metadata": {
        "colab": {
          "base_uri": "https://localhost:8080/"
        },
        "id": "WwKh_13EUfq3",
        "outputId": "e16ae1ea-b813-486b-e4fd-9aecf7a9637a"
      },
      "execution_count": null,
      "outputs": [
        {
          "output_type": "stream",
          "name": "stdout",
          "text": [
            "사용모델에 'ft:gpt-4o-mini-2024-07-18:personal:pms-real:AGf4AQYG'가 추가되었습니다.\n",
            "모델 이름이 /content/drive/MyDrive/Colab Notebooks/ChatGPT 경로에 저장되었습니다.\n",
            "저장된 실험 모델: ['ft:gpt-4o-mini-2024-07-18:personal:pms-silhum:AGVVwYGD', 'ft:gpt-4o-mini-2024-07-18:personal:pms-silhum:AGVw0T5G', 'ft:gpt-4o-mini-2024-07-18:personal:pms-silhum:AGWA4rJA', 'ft:gpt-4o-mini-2024-07-18:personal:pms-silhum:AGWZqOFY', 'silhum', 'ft:gpt-4o-mini-2024-07-18:personal:pms-silhum:AGWus2va', 'ft:gpt-4o-mini-2024-07-18:personal:pms-silhum:AGX5BmV3']\n",
            "저장된 사용 모델: ['ft:gpt-4o-mini-2024-07-18:personal:pms-real:AGf4AQYG']\n"
          ]
        }
      ]
    },
    {
      "cell_type": "code",
      "source": [
        "import csv\n",
        "from datetime import datetime\n",
        "\n",
        "stuff = input(\"소재를 입력해주세요 : \")\n",
        "\n",
        "stream = client.chat.completions.create(\n",
        "      # model=models_silhum[-1],\n",
        "      model=models_real[-1],\n",
        "      temperature=0.9,\n",
        "      top_p=0.97,\n",
        "      stream=True,\n",
        "      messages=[\n",
        "        {\"role\": \"system\", \"content\": \"당신은 재치있고 웃기는 n행시를 쓰는 AI입니다. 글자수에 맞게 써주세요.\"},\n",
        "        {\"role\": \"user\", \"content\": f\"'{stuff}'라는 단어로 {len(stuff)}행시 써주세요.\"}\n",
        "      ]\n",
        "    )\n",
        "\n",
        "print(\"----------------------------------\")\n",
        "\n",
        "full_content = \"\"\n",
        "for chunk in stream:\n",
        "    if chunk.choices[0].delta.content is not None:\n",
        "        content = chunk.choices[0].delta.content\n",
        "        print(content, end=\"\")\n",
        "        full_content += content\n",
        "\n",
        "# CSV 파일 이름 설정\n",
        "csv_filename = \"n행시_결과.csv\"\n",
        "\n",
        "# 현재 시간을 가져옵니다\n",
        "current_time = datetime.now().strftime(\"%Y-%m-%d %H:%M:%S\")\n",
        "\n",
        "# CSV 파일에 모든 내용을 저장합니다\n",
        "with open(csv_filename, 'a', newline='', encoding='utf-8') as file:\n",
        "    writer = csv.writer(file)\n",
        "\n",
        "    # 파일이 비어있다면 헤더를 추가합니다\n",
        "    file.seek(0, 2)\n",
        "    if file.tell() == 0:\n",
        "        writer.writerow([\"시간\", \"소재\", \"내용\"])\n",
        "\n",
        "    # 소재와 n행시를 같은 행에 저장합니다\n",
        "    writer.writerow([current_time, stuff, full_content])\n",
        "\n",
        "print(f\"\\n\\nCSV 파일에 결과가 추가되었습니다: {csv_filename}\")"
      ],
      "metadata": {
        "colab": {
          "base_uri": "https://localhost:8080/"
        },
        "id": "-kJDwTrGnvWm",
        "outputId": "d65b61df-96b9-4955-a13c-a3d179ca4f9e"
      },
      "execution_count": null,
      "outputs": [
        {
          "output_type": "stream",
          "name": "stdout",
          "text": [
            "소재를 입력해주세요 : 김정은\n",
            "----------------------------------\n",
            "김치보다\n",
            "정말\n",
            "은근히 좋다\n",
            "\n",
            "CSV 파일에 결과가 추가되었습니다: n행시_결과.csv\n"
          ]
        }
      ]
    },
    {
      "cell_type": "code",
      "source": [
        "import csv\n",
        "from datetime import datetime\n",
        "\n",
        "# CSV 파일 이름 설정\n",
        "csv_filename = \"n행시_결과.csv\"\n",
        "\n",
        "# 반복 횟수 설정\n",
        "repeat_count = 5  # 원하는 반복 횟수로 변경 가능\n",
        "\n",
        "for _ in range(repeat_count):\n",
        "    stuff = client.chat.completions.create(\n",
        "          model=\"gpt-4o-mini-2024-07-18\",\n",
        "          temperature=0.7,\n",
        "          messages=[\n",
        "            {\"role\": \"system\", \"content\": \"당신은 랜덤하게 단어를 고르는 AI입니다. '사과' 같이 딱 단어만 말하세요.\"},\n",
        "            {\"role\": \"user\", \"content\": \"n행시 하기 좋은 단어 하나를 골라주세요. 자연과 관련된 단어 하시면 안됩니다.\"},\n",
        "            # {\"role\": \"assistant\", \"content\": \"사랑\"},\n",
        "            # {\"role\": \"user\", \"content\": \"좋아요. 다른 좋은 단어 골라주세요.\"},\n",
        "            # {\"role\": \"assistant\", \"content\": \"비행기\"},\n",
        "            # {\"role\": \"user\", \"content\": \"좋아요. 글자수는 자유롭게 다른 좋은 단어 골라주세요.\"},\n",
        "          ]\n",
        "        )\n",
        "\n",
        "    stuff = stuff.choices[0].message.content\n",
        "    print(f\"소재는 {stuff} 입니다.\")\n",
        "\n",
        "    stream = client.chat.completions.create(\n",
        "          model=models_silhum[-1],\n",
        "          temperature=0.8,\n",
        "          top_p=0.97,\n",
        "          stream=True,\n",
        "          messages=[\n",
        "            {\"role\": \"system\", \"content\": \"당신은 재치있고 웃기는 n행시를 쓰는 AI입니다.\"},\n",
        "            {\"role\": \"user\", \"content\": f\"'{stuff}'라는 단어로 n행시 써주세요.\"}\n",
        "          ]\n",
        "        )\n",
        "\n",
        "    print(\"----------------------------------\")\n",
        "\n",
        "    full_content = \"\"\n",
        "    for chunk in stream:\n",
        "        if chunk.choices[0].delta.content is not None:\n",
        "            content = chunk.choices[0].delta.content\n",
        "            print(content, end=\"\")\n",
        "            full_content += content\n",
        "\n",
        "    # 현재 시간을 가져옵니다\n",
        "    current_time = datetime.now().strftime(\"%Y-%m-%d %H:%M:%S\")\n",
        "\n",
        "    # CSV 파일에 모든 내용을 저장합니다\n",
        "    with open(csv_filename, 'a', newline='', encoding='utf-8') as file:\n",
        "        writer = csv.writer(file)\n",
        "\n",
        "        # 파일이 비어있다면 헤더를 추가합니다\n",
        "        file.seek(0, 2)\n",
        "        if file.tell() == 0:\n",
        "            writer.writerow([\"시간\", \"소재\", \"내용\"])\n",
        "\n",
        "        # 소재와 n행시를 같은 행에 저장합니다\n",
        "        writer.writerow([current_time, stuff, full_content])\n",
        "\n",
        "    print(f\"\\n\\nCSV 파일에 결과가 추가되었습니다: {csv_filename}\")\n",
        "\n",
        "print(\"\\n모든 n행시 생성이 완료되었습니다.\")"
      ],
      "metadata": {
        "colab": {
          "base_uri": "https://localhost:8080/"
        },
        "id": "Wvf3iHnwTTas",
        "outputId": "745190d2-8e17-461d-92dd-1a55b7708900"
      },
      "execution_count": null,
      "outputs": [
        {
          "output_type": "stream",
          "name": "stdout",
          "text": [
            "소재는 사랑 입니다.\n",
            "----------------------------------\n",
            "사랑은\n",
            "아프다\n",
            "랑...\n",
            "\n",
            "CSV 파일에 결과가 추가되었습니다: n행시_결과.csv\n",
            "소재는 도시 입니다.\n",
            "----------------------------------\n",
            "도대체\n",
            "시골은 왜\n",
            "좋은 걸까\n",
            "\n",
            "CSV 파일에 결과가 추가되었습니다: n행시_결과.csv\n",
            "소재는 사랑 입니다.\n",
            "----------------------------------\n",
            "사랑하자\n",
            "라면도 끓여주고\n",
            "면도 해주고\n",
            "주말마다\n",
            "말도 안 되게\n",
            "해주고 싶다\n",
            "\n",
            "CSV 파일에 결과가 추가되었습니다: n행시_결과.csv\n",
            "소재는 사람 입니다.\n",
            "----------------------------------\n",
            "사랑하면\n",
            "람쥐도 단다\n",
            "\n",
            "CSV 파일에 결과가 추가되었습니다: n행시_결과.csv\n",
            "소재는 사랑 입니다.\n",
            "----------------------------------\n",
            "사랑해\n",
            "라면도\n",
            "면도기처럼\n",
            "기억할게\n",
            "냥냥펀치\n",
            "\n",
            "CSV 파일에 결과가 추가되었습니다: n행시_결과.csv\n",
            "\n",
            "모든 n행시 생성이 완료되었습니다.\n"
          ]
        }
      ]
    },
    {
      "cell_type": "code",
      "source": [
        "import csv\n",
        "from datetime import datetime\n",
        "\n",
        "stuff = client.chat.completions.create(\n",
        "      model=\"gpt-4o-mini-2024-07-18\",\n",
        "      temperature=0.6,\n",
        "      top_p=0.97,\n",
        "      messages=[\n",
        "        {\"role\": \"system\", \"content\": \"당신은 단어를 고르는 AI입니다. 좋은 단어를 아무거나 골라주세요.\"},\n",
        "        {\"role\": \"user\", \"content\": \"세 글자 단어 하나만 골라주세요.\"},\n",
        "        {\"role\": \"assistant\", \"content\": \"자동차\"},\n",
        "        {\"role\": \"user\", \"content\": \"좋아요. 그런 식으로 세 글자 단어 하나 골라주세요.\"},\n",
        "      ]\n",
        "    )\n",
        "\n",
        "stuff = stuff.choices[0].message.content\n",
        "print(f\"소재는 {stuff} 입니다.\")\n",
        "\n",
        "stream = client.chat.completions.create(\n",
        "      model=models_silhum[-1],\n",
        "      temperature=0.5,\n",
        "      top_p=0.97,\n",
        "      stream=True,\n",
        "      messages=[\n",
        "        {\"role\": \"system\", \"content\": \"당신은 재치있고 웃기는 n행시를 쓰는 AI입니다.\"},\n",
        "        {\"role\": \"user\", \"content\": f\"'{stuff}'라는 단어로 n행시 써주세요.\"}\n",
        "      ]\n",
        "    )\n",
        "\n",
        "print(\"----------------------------------\")\n",
        "\n",
        "full_content = \"\"\n",
        "for chunk in stream:\n",
        "    if chunk.choices[0].delta.content is not None:\n",
        "        content = chunk.choices[0].delta.content\n",
        "        print(content, end=\"\")\n",
        "        full_content += content\n",
        "\n",
        "# CSV 파일 이름 설정\n",
        "csv_filename = \"n행시_결과.csv\"\n",
        "\n",
        "# 현재 시간을 가져옵니다\n",
        "current_time = datetime.now().strftime(\"%Y-%m-%d %H:%M:%S\")\n",
        "\n",
        "# CSV 파일에 모든 내용을 저장합니다\n",
        "with open(csv_filename, 'a', newline='', encoding='utf-8') as file:\n",
        "    writer = csv.writer(file)\n",
        "\n",
        "    # 파일이 비어있다면 헤더를 추가합니다\n",
        "    file.seek(0, 2)\n",
        "    if file.tell() == 0:\n",
        "        writer.writerow([\"시간\", \"소재\", \"내용\"])\n",
        "\n",
        "    # 소재와 n행시를 같은 행에 저장합니다\n",
        "    writer.writerow([current_time, stuff, full_content])\n",
        "\n",
        "print(f\"\\n\\nCSV 파일에 결과가 추가되었습니다: {csv_filename}\")"
      ],
      "metadata": {
        "colab": {
          "base_uri": "https://localhost:8080/"
        },
        "id": "D3PEGPhmqd0P",
        "outputId": "971161bc-dad1-4085-977c-9b7888f227f9"
      },
      "execution_count": null,
      "outputs": [
        {
          "output_type": "stream",
          "name": "stdout",
          "text": [
            "소재는 하늘이 입니다.\n",
            "----------------------------------\n",
            "하늘이\n",
            "너무 예쁘다\n",
            "\n",
            "CSV 파일에 결과가 추가되었습니다: n행시_결과.csv\n"
          ]
        }
      ]
    }
  ]
}
