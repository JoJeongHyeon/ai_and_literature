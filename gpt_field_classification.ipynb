{
  "cells": [
    {
      "cell_type": "code",
      "execution_count": null,
      "metadata": {
        "colab": {
          "base_uri": "https://localhost:8080/"
        },
        "id": "yi3UicDIu-AL",
        "outputId": "c6b8c470-f79b-4f37-cf9e-1c81e70d48de"
      },
      "outputs": [
        {
          "name": "stdout",
          "output_type": "stream",
          "text": [
            "\u001b[?25l   \u001b[90m━━━━━━━━━━━━━━━━━━━━━━━━━━━━━━━━━━━━━━━━\u001b[0m \u001b[32m0.0/383.0 kB\u001b[0m \u001b[31m?\u001b[0m eta \u001b[36m-:--:--\u001b[0m\r\u001b[2K   \u001b[91m━━━━━━━━━━━━━━━━━━━━━━━━━━━━━━━━━━━━━━━\u001b[0m\u001b[91m╸\u001b[0m \u001b[32m378.9/383.0 kB\u001b[0m \u001b[31m14.5 MB/s\u001b[0m eta \u001b[36m0:00:01\u001b[0m\r\u001b[2K   \u001b[90m━━━━━━━━━━━━━━━━━━━━━━━━━━━━━━━━━━━━━━━━\u001b[0m \u001b[32m383.0/383.0 kB\u001b[0m \u001b[31m9.0 MB/s\u001b[0m eta \u001b[36m0:00:00\u001b[0m\n",
            "\u001b[?25h\u001b[?25l   \u001b[90m━━━━━━━━━━━━━━━━━━━━━━━━━━━━━━━━━━━━━━━━\u001b[0m \u001b[32m0.0/76.4 kB\u001b[0m \u001b[31m?\u001b[0m eta \u001b[36m-:--:--\u001b[0m\r\u001b[2K   \u001b[90m━━━━━━━━━━━━━━━━━━━━━━━━━━━━━━━━━━━━━━━━\u001b[0m \u001b[32m76.4/76.4 kB\u001b[0m \u001b[31m4.8 MB/s\u001b[0m eta \u001b[36m0:00:00\u001b[0m\n",
            "\u001b[?25h\u001b[?25l   \u001b[90m━━━━━━━━━━━━━━━━━━━━━━━━━━━━━━━━━━━━━━━━\u001b[0m \u001b[32m0.0/77.9 kB\u001b[0m \u001b[31m?\u001b[0m eta \u001b[36m-:--:--\u001b[0m\r\u001b[2K   \u001b[90m━━━━━━━━━━━━━━━━━━━━━━━━━━━━━━━━━━━━━━━━\u001b[0m \u001b[32m77.9/77.9 kB\u001b[0m \u001b[31m4.5 MB/s\u001b[0m eta \u001b[36m0:00:00\u001b[0m\n",
            "\u001b[?25h\u001b[?25l   \u001b[90m━━━━━━━━━━━━━━━━━━━━━━━━━━━━━━━━━━━━━━━━\u001b[0m \u001b[32m0.0/318.9 kB\u001b[0m \u001b[31m?\u001b[0m eta \u001b[36m-:--:--\u001b[0m\r\u001b[2K   \u001b[90m━━━━━━━━━━━━━━━━━━━━━━━━━━━━━━━━━━━━━━━━\u001b[0m \u001b[32m318.9/318.9 kB\u001b[0m \u001b[31m16.9 MB/s\u001b[0m eta \u001b[36m0:00:00\u001b[0m\n",
            "\u001b[?25h\u001b[?25l   \u001b[90m━━━━━━━━━━━━━━━━━━━━━━━━━━━━━━━━━━━━━━━━\u001b[0m \u001b[32m0.0/58.3 kB\u001b[0m \u001b[31m?\u001b[0m eta \u001b[36m-:--:--\u001b[0m\r\u001b[2K   \u001b[90m━━━━━━━━━━━━━━━━━━━━━━━━━━━━━━━━━━━━━━━━\u001b[0m \u001b[32m58.3/58.3 kB\u001b[0m \u001b[31m3.6 MB/s\u001b[0m eta \u001b[36m0:00:00\u001b[0m\n",
            "\u001b[?25h"
          ]
        }
      ],
      "source": [
        "!pip install openai --quiet"
      ]
    },
    {
      "cell_type": "code",
      "execution_count": null,
      "metadata": {
        "id": "OxBD0b4DvE1b"
      },
      "outputs": [],
      "source": [
        "import json\n",
        "import csv\n",
        "import pandas as pd\n",
        "from openai import OpenAI\n",
        "\n",
        "# api key 입력\n",
        "client = OpenAI(api_key=\"자신의 키를 입력해주세요.\")"
      ]
    },
    {
      "cell_type": "code",
      "execution_count": null,
      "metadata": {
        "id": "pAgJRbcu-Jy-"
      },
      "outputs": [],
      "source": [
        "# JSON 파일 읽기\n",
        "with open('crawl_kci.json', 'r', encoding='utf-8') as file:\n",
        "    data = json.load(file)\n",
        "\n",
        "# 제목 추출\n",
        "titles = [item['제목'] for item in data.values()]\n",
        "# 초록 추출\n",
        "abstracts = [item['초록'] for item in data.values()]\n",
        "\n",
        "# DataFrame 생성 (ID 열 추가)\n",
        "df = pd.DataFrame({'ID': range(len(titles)), '제목': titles})\n",
        "df_with_abstracts = pd.DataFrame({'ID': range(len(titles)), '제목': titles, '초록': abstracts})\n",
        "\n",
        "# 결과 출력\n",
        "print(df)\n",
        "\n",
        "# CSV 파일로 저장 (선택사항)\n",
        "df.to_csv('kci_titles.csv', index=False, encoding='utf-8-sig')\n",
        "df_with_abstracts.to_csv('kci_titles_with_abstracts.csv', index=False, encoding='utf-8-sig')"
      ]
    },
    {
      "cell_type": "code",
      "execution_count": null,
      "metadata": {
        "colab": {
          "base_uri": "https://localhost:8080/"
        },
        "collapsed": true,
        "id": "E83PIASgwXBB",
        "outputId": "e3f2a13a-38be-49cd-d74f-dc295c8cb012"
      },
      "outputs": [
        {
          "data": {
            "text/plain": [
              "14"
            ]
          },
          "execution_count": 43,
          "metadata": {},
          "output_type": "execute_result"
        }
      ],
      "source": [
        "# kci_titles.csv 를 df에 넣기\n",
        "df = pd.read_csv('kci_titles.csv')\n",
        "\n",
        "# df에서 10000개씩 여러개 추출하기\n",
        "chunk_size = 10000\n",
        "my_chunks = [df[i:i+chunk_size] for i in range(0, len(df), chunk_size)]\n",
        "len(my_chunks)"
      ]
    },
    {
      "cell_type": "markdown",
      "metadata": {
        "id": "rwjrPBeVCw_v"
      },
      "source": [
        "# 1차 분류하기 (10개씩, 병렬처리)"
      ]
    },
    {
      "cell_type": "code",
      "execution_count": null,
      "metadata": {
        "id": "V0Pyjc2ewyj6"
      },
      "outputs": [],
      "source": [
        "from pydantic import BaseModel\n",
        "\n",
        "class Categorize(BaseModel):\n",
        "    category: str"
      ]
    },
    {
      "cell_type": "code",
      "execution_count": null,
      "metadata": {
        "id": "Ad0wVK-DxB-U"
      },
      "outputs": [],
      "source": [
        "def classify_kci_category(title):\n",
        "\n",
        "    # 사회과학, 기독교신학, 문학, 언어학, 역사학, 철학, 통역번역학, 기타인문학, 관련없음 ('인문학이아님' 으로 수정하는 건?)\n",
        "    # 기독교신학부터 기타인문학까지는 kci의 분류를 참고. 영어영문학, 국어국문학 => 문학, 언어학으로 크게 분류\n",
        "    # 사회과학, 관련없음에 해당하는 것은 제외를 하려고 추가\n",
        "\n",
        "    prompt = f\"\"\"다음 학술 논문 제목을 바탕으로 KCI (한국학술지인용색인) 카테고리를 분류해주세요.\n",
        "    가능한 카테고리는 다음과 같습니다:\n",
        "    사회과학, 기독교신학, 문학, 언어학, 역사학, 철학, 통역번역학\n",
        "    인문학이지만 위 카테고리에 해당하지 않으면 '기타인문학'으로 분류하세요.\n",
        "    위와 같은 인문학 카테고리와 아무 관련도 없다면 '관련없음'으로 분류하세요.\n",
        "    '///'로 분류된 10개의 제목에 대해 각각 카테고리를 분류해주세요.\n",
        "\n",
        "    <예시>\n",
        "    제목: 속성의 의미를 나타내는 피동문의 특성 연구///부정성의 극단화로서의 노년: 노년의 철학적 규정에 대한 연구///고통의 시대와 저항담론으로서의 불교사상///중국 역사교과서의 개편과 자국사 및 세계사의 '현대' 서술///러시아 탈북민의 복음수용에 관한 생애사 연구///미시마 유키오 『한여름의 죽음』에서 보는 '분노'///밀의 공리주의와 덕 윤리학///1930년대 초반 프롤레타리아 소설의 계급의식과 여성 동성사회성///'계급' 개념의 근대 지식적 역학－사회주의 연구노트 1///줄기세포기반치료에 대한 미국의 규제 경향 고찰\n",
        "\n",
        "    카테고리: 언어학///철학///철학///역사학///기독교신학///문학///철학///문학///사회과학///관련없음\n",
        "\n",
        "    <실전>\n",
        "    제목: {title[0]}///{title[1]}///{title[2]}///{title[3]}///{title[4]}///{title[5]}///{title[6]}///{title[7]}///{title[8]}///{title[9]}\n",
        "\n",
        "    카테고리:\"\"\"\n",
        "\n",
        "    # # old prompt는 분류가 안된 것들에 한해서  (13만개 중 1800개가 10개씩 분류할 때 분류가 안됨.)\n",
        "\n",
        "    # 카테고리:\"\"\"\n",
        "\n",
        "    # old_prompt = '''다음 학술 논문 제목을 바탕으로 KCI (한국학술지인용색인) 카테고리를 분류해주세요.\n",
        "    # 가능한 카테고리는 다음과 같습니다:\n",
        "    # 사회과학, 기독교신학, 문학, 언어학, 역사학, 철학, 통역번역학\n",
        "    # 인문학이지만 위 카테고리에 해당하지 않으면 '기타인문학'으로 분류하세요.\n",
        "    # 위와 같은 인문학 카테고리와 아무 관련도 없다면 '관련없음'으로 분류하세요.\n",
        "\n",
        "    # 제목: {title}\n",
        "\n",
        "    # 카테고리:'''\n",
        "\n",
        "    try:\n",
        "        response = client.beta.chat.completions.parse(\n",
        "            model=\"gpt-4o-mini\",\n",
        "            temperature=0,\n",
        "            messages=[\n",
        "                {\"role\": \"system\", \"content\": \"너는 카테고리를 정확하게 분류하는 AI야. 잘 고민하고 분류해봐.\"},\n",
        "                {\"role\": \"user\", \"content\": prompt}\n",
        "            ],\n",
        "            response_format=Categorize,\n",
        "        )\n",
        "\n",
        "        if response.choices and response.choices[0].message.parsed:\n",
        "            return response.choices[0].message.parsed.category\n",
        "        else:\n",
        "            return \"분류 불가\"  # 응답 구조가 올바르지 않은 경우\n",
        "    except Exception as e:\n",
        "        print(f\"카테고리 분류 중 오류 발생: {e}\")\n",
        "        return \"오류 발생\"  # 오류 발생 시"
      ]
    },
    {
      "cell_type": "code",
      "execution_count": null,
      "metadata": {
        "colab": {
          "base_uri": "https://localhost:8080/"
        },
        "id": "LRyZ3WPpOJcJ",
        "outputId": "5a792e8c-4f4a-4152-d095-d52ffa767d6f"
      },
      "outputs": [
        {
          "name": "stdout",
          "output_type": "stream",
          "text": [
            "\n",
            "청크 1 처리 시작\n",
            "처리할 청크 크기: 10000 항목\n"
          ]
        },
        {
          "name": "stderr",
          "output_type": "stream",
          "text": [
            "Processing title groups:   1%|          | 7/1000 [00:01<03:40,  4.50it/s]"
          ]
        },
        {
          "name": "stdout",
          "output_type": "stream",
          "text": [
            "Warning: 그룹 9에서 카테고리 수가 제목 수와 일치하지 않습니다.\n"
          ]
        },
        {
          "name": "stderr",
          "output_type": "stream",
          "text": [
            "Processing title groups:  10%|▉         | 99/1000 [00:20<02:12,  6.80it/s]"
          ]
        },
        {
          "name": "stdout",
          "output_type": "stream",
          "text": [
            "Warning: 그룹 101에서 카테고리 수가 제목 수와 일치하지 않습니다.\n"
          ]
        },
        {
          "name": "stderr",
          "output_type": "stream",
          "text": [
            "Processing title groups:  17%|█▋        | 167/1000 [00:34<02:45,  5.03it/s]"
          ]
        },
        {
          "name": "stdout",
          "output_type": "stream",
          "text": [
            "Warning: 그룹 168에서 카테고리 수가 제목 수와 일치하지 않습니다.\n"
          ]
        },
        {
          "name": "stderr",
          "output_type": "stream",
          "text": [
            "Processing title groups:  22%|██▏       | 217/1000 [00:46<02:58,  4.38it/s]"
          ]
        },
        {
          "name": "stdout",
          "output_type": "stream",
          "text": [
            "Warning: 그룹 221에서 카테고리 수가 제목 수와 일치하지 않습니다.\n"
          ]
        },
        {
          "name": "stderr",
          "output_type": "stream",
          "text": [
            "Processing title groups:  22%|██▏       | 223/1000 [00:47<02:14,  5.77it/s]"
          ]
        },
        {
          "name": "stdout",
          "output_type": "stream",
          "text": [
            "Warning: 그룹 224에서 카테고리 수가 제목 수와 일치하지 않습니다.\n"
          ]
        },
        {
          "name": "stderr",
          "output_type": "stream",
          "text": [
            "Processing title groups:  47%|████▋     | 471/1000 [01:45<01:53,  4.66it/s]"
          ]
        },
        {
          "name": "stdout",
          "output_type": "stream",
          "text": [
            "Warning: 그룹 475에서 카테고리 수가 제목 수와 일치하지 않습니다.\n"
          ]
        },
        {
          "name": "stderr",
          "output_type": "stream",
          "text": [
            "Processing title groups:  63%|██████▎   | 631/1000 [02:21<01:27,  4.23it/s]"
          ]
        },
        {
          "name": "stdout",
          "output_type": "stream",
          "text": [
            "Warning: 그룹 635에서 카테고리 수가 제목 수와 일치하지 않습니다.\n"
          ]
        },
        {
          "name": "stderr",
          "output_type": "stream",
          "text": [
            "Processing title groups:  73%|███████▎  | 726/1000 [02:42<00:37,  7.32it/s]"
          ]
        },
        {
          "name": "stdout",
          "output_type": "stream",
          "text": [
            "Warning: 그룹 728에서 카테고리 수가 제목 수와 일치하지 않습니다.\n"
          ]
        },
        {
          "name": "stderr",
          "output_type": "stream",
          "text": [
            "Processing title groups: 100%|██████████| 1000/1000 [03:50<00:00,  4.33it/s]\n"
          ]
        },
        {
          "name": "stdout",
          "output_type": "stream",
          "text": [
            "\n",
            "청크 1 처리 완료. 청크의 첫 5개 행:\n",
            "   ID                                              제목   카테고리\n",
            "0   0         죽음은 죄의 결과인가?: 죄와 죽음의 관계 이해를 위한 교의신학적 성찰  기독교신학\n",
            "1   1                  󰡔하느님을 찾는 사람들󰡕 예비 신자 교리서에 대한 소고  기독교신학\n",
            "2   2              한국 천주교 교육사에서 바라보는 한국 살레시오회의 교육적 역할  기독교신학\n",
            "3   3              연행 밀사 소통방식과 변화 - 천주교 밀사 기록을 중심으로 -  기독교신학\n",
            "4   4  메리놀회의 중국 진입과 적응에 대한 초보적 탐색 -‘적응주의’와 ‘토착화’ 사이에서  기독교신학\n",
            "\n",
            "처리된 청크를 classified_titles_chunk_1.csv로 저장 완료.\n",
            "\n",
            "모든 청크 처리 완료.\n"
          ]
        }
      ],
      "source": [
        "from tqdm import tqdm\n",
        "import concurrent.futures\n",
        "from functools import partial\n",
        "\n",
        "def process_titles(titles):\n",
        "    categories = classify_kci_category(titles).split('///')\n",
        "    return categories\n",
        "\n",
        "def process_chunk(chunk, titles_size, max_workers=20,):\n",
        "    results = []\n",
        "    title_groups = [chunk['제목'].iloc[i:i+titles_size].tolist() for i in range(0, len(chunk), titles_size)]\n",
        "\n",
        "    with tqdm(total=len(title_groups), desc=\"Processing title groups\") as pbar:\n",
        "        with concurrent.futures.ThreadPoolExecutor() as executor:\n",
        "            future_to_group = {executor.submit(process_titles, group): i for i, group in enumerate(title_groups)}\n",
        "\n",
        "            for future in concurrent.futures.as_completed(future_to_group):\n",
        "                group_index = future_to_group[future]\n",
        "                try:\n",
        "                    categories = future.result()\n",
        "                    start_idx = group_index * titles_size\n",
        "                    end_idx = min((group_index + 1) * titles_size, len(chunk))\n",
        "                    if len(categories) == end_idx - start_idx:\n",
        "                        for j, category in enumerate(categories):\n",
        "                            results.append((chunk.index[start_idx + j], category))\n",
        "                    else:\n",
        "                        print(f\"Warning: 그룹 {group_index+1}에서 카테고리 수가 제목 수와 일치하지 않습니다.\")\n",
        "                except Exception as exc:\n",
        "                    print(f'그룹 {group_index}에서 오류 발생: {exc}')\n",
        "                finally:\n",
        "                    pbar.update(1)\n",
        "\n",
        "    return results"
      ]
    },
    {
      "cell_type": "code",
      "execution_count": null,
      "metadata": {
        "id": "fia5WD3CCV8a"
      },
      "outputs": [],
      "source": [
        "def main():\n",
        "    # CSV 파일 읽기\n",
        "    df = pd.read_csv('kci_titles.csv')\n",
        "\n",
        "    # 청크 크기 설정\n",
        "    titles_size = 10\n",
        "\n",
        "    for chunk_num in range(1, len(my_chunks)+1):\n",
        "        if chunk_number == len(my_chunks):\n",
        "            chunk = df[130000:len(df)].copy()\n",
        "        elif 1 <= chunk_number < 14:\n",
        "            chunk_size = chunk_num * 10000\n",
        "\n",
        "            # 지정된 청크 선택\n",
        "            chunk = df[chunk_size-10000:chunk_size].copy()\n",
        "\n",
        "        print(f\"\\n청크 {chunk_num} 처리 시작\")\n",
        "        print(f\"처리할 청크 크기: {len(chunk)} 항목\")\n",
        "\n",
        "        # 단일 청크 처리\n",
        "        results = process_chunk(chunk, titles_size,)\n",
        "\n",
        "        # 결과를 청크에 적용\n",
        "        chunk['카테고리'] = ''\n",
        "        for idx, category in results:\n",
        "            chunk.loc[idx, '카테고리'] = category\n",
        "\n",
        "        # 결과 확인\n",
        "        print(f\"\\n청크 {chunk_num} 처리 완료. 청크의 첫 5개 행:\")\n",
        "        print(chunk.head())\n",
        "\n",
        "        # 처리된 청크만 CSV 파일로 저장\n",
        "        output_filename = f'classified_titles_chunk_{chunk_num}.csv'\n",
        "        chunk.to_csv(output_filename, index=False)\n",
        "        print(f\"\\n처리된 청크를 {output_filename}로 저장 완료.\")\n",
        "\n",
        "    print(\"\\n모든 청크 처리 완료.\")\n",
        "\n",
        "if __name__ == \"__main__\":\n",
        "    main()"
      ]
    },
    {
      "cell_type": "code",
      "execution_count": null,
      "metadata": {
        "colab": {
          "base_uri": "https://localhost:8080/"
        },
        "id": "wc3GicBm4pce",
        "outputId": "638e383f-7ea7-4dd9-b9f8-499a4c375ebb"
      },
      "outputs": [
        {
          "name": "stdout",
          "output_type": "stream",
          "text": [
            "파일 classified_titles_chunk_1.csv을 읽었습니다. 크기: 10000 행\n",
            "파일 classified_titles_chunk_2.csv을 읽었습니다. 크기: 10000 행\n",
            "파일 classified_titles_chunk_3.csv을 읽었습니다. 크기: 10000 행\n",
            "파일 classified_titles_chunk_4.csv을 읽었습니다. 크기: 10000 행\n",
            "파일 classified_titles_chunk_5.csv을 읽었습니다. 크기: 10000 행\n",
            "파일 classified_titles_chunk_6.csv을 읽었습니다. 크기: 10000 행\n",
            "파일 classified_titles_chunk_7.csv을 읽었습니다. 크기: 10000 행\n",
            "파일 classified_titles_chunk_8.csv을 읽었습니다. 크기: 10000 행\n",
            "파일 classified_titles_chunk_9.csv을 읽었습니다. 크기: 10000 행\n",
            "파일 classified_titles_chunk_10.csv을 읽었습니다. 크기: 10000 행\n",
            "파일 classified_titles_chunk_11.csv을 읽었습니다. 크기: 10000 행\n",
            "파일 classified_titles_chunk_12.csv을 읽었습니다. 크기: 10000 행\n",
            "파일 classified_titles_chunk_13.csv을 읽었습니다. 크기: 10000 행\n",
            "파일 classified_titles_chunk_14.csv을 읽었습니다. 크기: 3118 행\n",
            "\n",
            "모든 청크 파일이 classified_titles.csv로 통합되었습니다.\n",
            "통합된 파일의 총 행 수: 133118\n"
          ]
        }
      ],
      "source": [
        "# classified_titles_chunk_(1 to n).csv 를 classified_titles.csv로 통합\n",
        "import glob\n",
        "\n",
        "def merge_csv_files():\n",
        "    # 통합할 CSV 파일들의 패턴\n",
        "    pattern = 'classified_titles_chunk_*.csv'\n",
        "\n",
        "    # 모든 청크 파일 리스트 가져오기\n",
        "    all_files = glob.glob(pattern)\n",
        "\n",
        "    # 파일들을 정렬하여 순서대로 처리\n",
        "    all_files.sort(key=lambda x: int(x.split('_')[-1].split('.')[0]))\n",
        "\n",
        "    # 결과를 저장할 빈 리스트\n",
        "    df_list = []\n",
        "\n",
        "    # 각 파일을 읽어서 리스트에 추가\n",
        "    for filename in all_files:\n",
        "        df = pd.read_csv(filename)\n",
        "        df_list.append(df)\n",
        "        print(f\"파일 {filename}을 읽었습니다. 크기: {len(df)} 행\")\n",
        "\n",
        "    # 모든 데이터프레임을 하나로 결합\n",
        "    combined_df = pd.concat(df_list, ignore_index=True)\n",
        "\n",
        "    # 결합된 데이터를 새 CSV 파일로 저장\n",
        "    output_filename = 'classified_titles.csv'\n",
        "    combined_df.to_csv(output_filename, index=False)\n",
        "\n",
        "    print(f\"\\n모든 청크 파일이 {output_filename}로 통합되었습니다.\")\n",
        "    print(f\"통합된 파일의 총 행 수: {len(combined_df)}\")\n",
        "\n",
        "if __name__ == \"__main__\":\n",
        "    merge_csv_files()"
      ]
    },
    {
      "cell_type": "markdown",
      "metadata": {
        "id": "XWud8dAjCnSS"
      },
      "source": [
        "# 2차 처리 (1개씩, 단일처리)\n",
        "\n",
        "1차에서 분류 안 된 것들 분류하기"
      ]
    },
    {
      "cell_type": "code",
      "execution_count": null,
      "metadata": {
        "colab": {
          "base_uri": "https://localhost:8080/"
        },
        "id": "c1IyFHEXA360",
        "outputId": "619f3e3b-00e3-4939-8b24-9226fb4e6750"
      },
      "outputs": [
        {
          "name": "stdout",
          "output_type": "stream",
          "text": [
            "            ID                                                 제목 카테고리\n",
            "20320    20320  ‘민주화’의 역설과 노동시의 새로운 양상 - 민주화 이후 시대의 노동시와 한국 민주...  NaN\n",
            "20321    20321                        <박제상 설화>의 전승적 측면에 따른 성격과 의의  NaN\n",
            "20322    20322                     海港都市 木浦의 藝鄕性과 가요 <목포의 눈물> 활용사례  NaN\n",
            "20323    20323  인민의 원한과 정치적인 것, 그리고 민주주의 - 식민지 정치소설들과의 연대의식 하에...  NaN\n",
            "20324    20324            <대청전서> 런던대 SOAS도서관 소장본에 보이는 붉은 색 가필의 가치  NaN\n",
            "...        ...                                                ...  ...\n",
            "133113  133113                 전남 동부 지역의 마을 이름 연구 ― 옛 여천군을 중심으로 ―  NaN\n",
            "133114  133114                                     옛지명 해석에 관한 문제들  NaN\n",
            "133115  133115                                       일본 지명 표기의 특징  NaN\n",
            "133116  133116                                땅이름(지명)의 자료와 우리말 연구  NaN\n",
            "133117  133117                                       지명 차자 표기 해독법  NaN\n",
            "\n",
            "[98 rows x 3 columns]\n"
          ]
        },
        {
          "name": "stderr",
          "output_type": "stream",
          "text": [
            "100%|██████████| 98/98 [01:00<00:00,  1.63it/s]\n"
          ]
        }
      ],
      "source": [
        "# classified_titles.csv의 '카테고리' 열의 빈칸만 모아두는 df 만들기\n",
        "# CSV 파일 읽기\n",
        "df = pd.read_csv('classified_titles.csv')\n",
        "\n",
        "# '카테고리' 열이 빈 값인 행만 선택\n",
        "df_binkan = df[df['카테고리'].isna()]\n",
        "\n",
        "# 결과 확인\n",
        "print(df_binkan)\n",
        "\n",
        "# 100개 미만의 데이터를 처리할 때\n",
        "\n",
        "# Apply the classification function to each title\n",
        "# 나중에 병렬처리로 바꿔보기\n",
        "results = []\n",
        "for index, row in tqdm(df_binkan.iterrows(), total=len(df_binkan)):\n",
        "    title = row['제목']\n",
        "    category = classify_kci_category(title)\n",
        "    #df_binkan.at[index, '카테고리'] = category\n",
        "    results.append((index, category))"
      ]
    },
    {
      "cell_type": "code",
      "execution_count": null,
      "metadata": {
        "colab": {
          "base_uri": "https://localhost:8080/"
        },
        "collapsed": true,
        "id": "qIfUkW6OMNJq",
        "outputId": "4eeda94a-a778-42e2-b1b7-380eb6391a9a"
      },
      "outputs": [
        {
          "name": "stdout",
          "output_type": "stream",
          "text": [
            "20320\n",
            "20321\n",
            "20322\n",
            "20323\n",
            "20324\n",
            "20325\n",
            "20326\n",
            "20327\n",
            "20328\n",
            "20329\n",
            "29100\n",
            "29101\n",
            "29102\n",
            "29103\n",
            "29104\n",
            "29105\n",
            "29106\n",
            "29107\n",
            "29108\n",
            "29109\n",
            "37920\n",
            "37921\n",
            "37922\n",
            "37923\n",
            "37924\n",
            "37925\n",
            "37926\n",
            "37927\n",
            "37928\n",
            "37929\n",
            "39130\n",
            "39131\n",
            "39132\n",
            "39133\n",
            "39134\n",
            "39135\n",
            "39136\n",
            "39137\n",
            "39138\n",
            "39139\n",
            "44280\n",
            "44281\n",
            "44282\n",
            "44283\n",
            "44284\n",
            "44285\n",
            "44286\n",
            "44287\n",
            "44288\n",
            "44289\n",
            "72680\n",
            "72681\n",
            "72682\n",
            "72683\n",
            "72684\n",
            "72685\n",
            "72686\n",
            "72687\n",
            "72688\n",
            "72689\n",
            "96270\n",
            "96271\n",
            "96272\n",
            "96273\n",
            "96274\n",
            "96275\n",
            "96276\n",
            "96277\n",
            "96278\n",
            "96279\n",
            "115260\n",
            "115261\n",
            "115262\n",
            "115263\n",
            "115264\n",
            "115265\n",
            "115266\n",
            "115267\n",
            "115268\n",
            "115269\n",
            "130680\n",
            "130681\n",
            "130682\n",
            "130683\n",
            "130684\n",
            "130685\n",
            "130686\n",
            "130687\n",
            "130688\n",
            "130689\n",
            "133110\n",
            "133111\n",
            "133112\n",
            "133113\n",
            "133114\n",
            "133115\n",
            "133116\n",
            "133117\n",
            "\n",
            "CSV 파일로 저장 완료.\n"
          ]
        }
      ],
      "source": [
        "# 결과를 데이터프레임에 적용\n",
        "for idx, category in results:\n",
        "    #print(idx)\n",
        "    df.loc[idx, '카테고리'] = category\n",
        "\n",
        "# 업데이트된 DataFrame을 새 CSV 파일로 저장\n",
        "df.to_csv('classified_titles.csv', index=False)\n",
        "print(\"\\nCSV 파일로 저장 완료.\")"
      ]
    },
    {
      "cell_type": "code",
      "execution_count": null,
      "metadata": {
        "colab": {
          "base_uri": "https://localhost:8080/",
          "height": 53
        },
        "id": "T-IgwbNKRchA",
        "outputId": "e7e37ccb-615e-4572-e936-0f27ba94046b"
      },
      "outputs": [
        {
          "data": {
            "application/vnd.google.colaboratory.intrinsic+json": {
              "repr_error": "Out of range float values are not JSON compliant: nan",
              "type": "dataframe"
            },
            "text/html": [
              "\n",
              "  <div id=\"df-c3ef7a8c-a708-4269-acc3-c4edb30b37b4\" class=\"colab-df-container\">\n",
              "    <div>\n",
              "<style scoped>\n",
              "    .dataframe tbody tr th:only-of-type {\n",
              "        vertical-align: middle;\n",
              "    }\n",
              "\n",
              "    .dataframe tbody tr th {\n",
              "        vertical-align: top;\n",
              "    }\n",
              "\n",
              "    .dataframe thead th {\n",
              "        text-align: right;\n",
              "    }\n",
              "</style>\n",
              "<table border=\"1\" class=\"dataframe\">\n",
              "  <thead>\n",
              "    <tr style=\"text-align: right;\">\n",
              "      <th></th>\n",
              "      <th>ID</th>\n",
              "      <th>제목</th>\n",
              "      <th>카테고리</th>\n",
              "    </tr>\n",
              "  </thead>\n",
              "  <tbody>\n",
              "  </tbody>\n",
              "</table>\n",
              "</div>\n",
              "    <div class=\"colab-df-buttons\">\n",
              "\n",
              "  <div class=\"colab-df-container\">\n",
              "    <button class=\"colab-df-convert\" onclick=\"convertToInteractive('df-c3ef7a8c-a708-4269-acc3-c4edb30b37b4')\"\n",
              "            title=\"Convert this dataframe to an interactive table.\"\n",
              "            style=\"display:none;\">\n",
              "\n",
              "  <svg xmlns=\"http://www.w3.org/2000/svg\" height=\"24px\" viewBox=\"0 -960 960 960\">\n",
              "    <path d=\"M120-120v-720h720v720H120Zm60-500h600v-160H180v160Zm220 220h160v-160H400v160Zm0 220h160v-160H400v160ZM180-400h160v-160H180v160Zm440 0h160v-160H620v160ZM180-180h160v-160H180v160Zm440 0h160v-160H620v160Z\"/>\n",
              "  </svg>\n",
              "    </button>\n",
              "\n",
              "  <style>\n",
              "    .colab-df-container {\n",
              "      display:flex;\n",
              "      gap: 12px;\n",
              "    }\n",
              "\n",
              "    .colab-df-convert {\n",
              "      background-color: #E8F0FE;\n",
              "      border: none;\n",
              "      border-radius: 50%;\n",
              "      cursor: pointer;\n",
              "      display: none;\n",
              "      fill: #1967D2;\n",
              "      height: 32px;\n",
              "      padding: 0 0 0 0;\n",
              "      width: 32px;\n",
              "    }\n",
              "\n",
              "    .colab-df-convert:hover {\n",
              "      background-color: #E2EBFA;\n",
              "      box-shadow: 0px 1px 2px rgba(60, 64, 67, 0.3), 0px 1px 3px 1px rgba(60, 64, 67, 0.15);\n",
              "      fill: #174EA6;\n",
              "    }\n",
              "\n",
              "    .colab-df-buttons div {\n",
              "      margin-bottom: 4px;\n",
              "    }\n",
              "\n",
              "    [theme=dark] .colab-df-convert {\n",
              "      background-color: #3B4455;\n",
              "      fill: #D2E3FC;\n",
              "    }\n",
              "\n",
              "    [theme=dark] .colab-df-convert:hover {\n",
              "      background-color: #434B5C;\n",
              "      box-shadow: 0px 1px 3px 1px rgba(0, 0, 0, 0.15);\n",
              "      filter: drop-shadow(0px 1px 2px rgba(0, 0, 0, 0.3));\n",
              "      fill: #FFFFFF;\n",
              "    }\n",
              "  </style>\n",
              "\n",
              "    <script>\n",
              "      const buttonEl =\n",
              "        document.querySelector('#df-c3ef7a8c-a708-4269-acc3-c4edb30b37b4 button.colab-df-convert');\n",
              "      buttonEl.style.display =\n",
              "        google.colab.kernel.accessAllowed ? 'block' : 'none';\n",
              "\n",
              "      async function convertToInteractive(key) {\n",
              "        const element = document.querySelector('#df-c3ef7a8c-a708-4269-acc3-c4edb30b37b4');\n",
              "        const dataTable =\n",
              "          await google.colab.kernel.invokeFunction('convertToInteractive',\n",
              "                                                    [key], {});\n",
              "        if (!dataTable) return;\n",
              "\n",
              "        const docLinkHtml = 'Like what you see? Visit the ' +\n",
              "          '<a target=\"_blank\" href=https://colab.research.google.com/notebooks/data_table.ipynb>data table notebook</a>'\n",
              "          + ' to learn more about interactive tables.';\n",
              "        element.innerHTML = '';\n",
              "        dataTable['output_type'] = 'display_data';\n",
              "        await google.colab.output.renderOutput(dataTable, element);\n",
              "        const docLink = document.createElement('div');\n",
              "        docLink.innerHTML = docLinkHtml;\n",
              "        element.appendChild(docLink);\n",
              "      }\n",
              "    </script>\n",
              "  </div>\n",
              "\n",
              "\n",
              "    </div>\n",
              "  </div>\n"
            ],
            "text/plain": [
              "Empty DataFrame\n",
              "Columns: [ID, 제목, 카테고리]\n",
              "Index: []"
            ]
          },
          "execution_count": 114,
          "metadata": {},
          "output_type": "execute_result"
        }
      ],
      "source": [
        "# classified_titles_silhum_2.csv 에 빈칸이 있는지 확인\n",
        "silhum = pd.read_csv('classified_titles.csv')\n",
        "silhum[silhum['카테고리'].isna()] # 없다."
      ]
    },
    {
      "cell_type": "markdown",
      "metadata": {
        "id": "V5MeRiBOB1Xr"
      },
      "source": [
        "# xlsx 변환 및 드라이브 연동"
      ]
    },
    {
      "cell_type": "code",
      "execution_count": null,
      "metadata": {
        "colab": {
          "base_uri": "https://localhost:8080/"
        },
        "id": "Ub9_EFmQfRID",
        "outputId": "def2a323-976d-403e-a29d-3e5cabdaebc7"
      },
      "outputs": [
        {
          "name": "stdout",
          "output_type": "stream",
          "text": [
            "변환이 완료되었습니다.\n"
          ]
        }
      ],
      "source": [
        "# 결과를 xlsx에 저장하려면 전각 문자를 없애야 한다.\n",
        "\n",
        "import re\n",
        "\n",
        "# CSV 파일 읽기\n",
        "make_excel = pd.read_csv('classified_titles_silhum_2.csv')\n",
        "\n",
        "# 특수 문자 및 특정 문자열 처리 함수\n",
        "def replace_chars(text):\n",
        "    # 입력값을 문자열로 변환\n",
        "    text = str(text)\n",
        "\n",
        "    # 전각 대시를 일반 대시로 대체\n",
        "    text = text.replace('\u0002', '<')\n",
        "    text = text.replace('\u0003', '>')\n",
        "    text = text.replace('－', '-')\n",
        "\n",
        "    return text\n",
        "\n",
        "# '제목' 열에만 문자열 치환 적용\n",
        "if '제목' in make_excel.columns:\n",
        "    make_excel['제목'] = make_excel['제목'].astype(str).apply(replace_chars)\n",
        "else:\n",
        "    print(\"'제목' 열이 데이터프레임에 존재하지 않습니다.\")\n",
        "\n",
        "# XLSX 파일로 저장\n",
        "make_excel.to_excel('classified_titles_silhum_2.xlsx', index=False, engine='openpyxl')\n",
        "make_excel.to_csv('classified_titles_silhum_2.csv', index=False,)\n",
        "\n",
        "print(\"변환이 완료되었습니다.\")"
      ]
    },
    {
      "cell_type": "code",
      "execution_count": null,
      "metadata": {
        "colab": {
          "base_uri": "https://localhost:8080/"
        },
        "id": "1p4b6wjgTKbl",
        "outputId": "c9baee59-86ec-480a-f4c0-eab54f8d850f"
      },
      "outputs": [
        {
          "name": "stdout",
          "output_type": "stream",
          "text": [
            "Drive already mounted at /content/drive; to attempt to forcibly remount, call drive.mount(\"/content/drive\", force_remount=True).\n",
            "classified_titles_chunk_3.csv 파일이 구글 드라이브의 /content/drive/My Drive/Colab Notebooks/인문LLM/모델용 경로에 저장되었습니다.\n",
            "classified_titles_chunk_8.csv 파일이 구글 드라이브의 /content/drive/My Drive/Colab Notebooks/인문LLM/모델용 경로에 저장되었습니다.\n",
            "df_binkan.csv 파일이 구글 드라이브의 /content/drive/My Drive/Colab Notebooks/인문LLM/모델용 경로에 저장되었습니다.\n",
            "df_binkan_2.csv 파일이 구글 드라이브의 /content/drive/My Drive/Colab Notebooks/인문LLM/모델용 경로에 저장되었습니다.\n",
            "classified_titles_chunk_1.csv 파일이 구글 드라이브의 /content/drive/My Drive/Colab Notebooks/인문LLM/모델용 경로에 저장되었습니다.\n",
            "classified_titles_chunk_11.csv 파일이 구글 드라이브의 /content/drive/My Drive/Colab Notebooks/인문LLM/모델용 경로에 저장되었습니다.\n",
            "classified_titles_chunk_13.csv 파일이 구글 드라이브의 /content/drive/My Drive/Colab Notebooks/인문LLM/모델용 경로에 저장되었습니다.\n",
            "classified_titles_chunk_5.csv 파일이 구글 드라이브의 /content/drive/My Drive/Colab Notebooks/인문LLM/모델용 경로에 저장되었습니다.\n",
            "classified_titles_silhum_2.xlsx 파일이 구글 드라이브의 /content/drive/My Drive/Colab Notebooks/인문LLM/모델용 경로에 저장되었습니다.\n",
            "classified_titles_chunk_14.csv 파일이 구글 드라이브의 /content/drive/My Drive/Colab Notebooks/인문LLM/모델용 경로에 저장되었습니다.\n",
            "classified_titles.csv 파일이 구글 드라이브의 /content/drive/My Drive/Colab Notebooks/인문LLM/모델용 경로에 저장되었습니다.\n",
            "classified_titles_silhum.csv 파일이 구글 드라이브의 /content/drive/My Drive/Colab Notebooks/인문LLM/모델용 경로에 저장되었습니다.\n",
            "classified_titles_chunk_4.csv 파일이 구글 드라이브의 /content/drive/My Drive/Colab Notebooks/인문LLM/모델용 경로에 저장되었습니다.\n",
            "classified_titles_chunk_6.csv 파일이 구글 드라이브의 /content/drive/My Drive/Colab Notebooks/인문LLM/모델용 경로에 저장되었습니다.\n",
            "classified_titles_silhum_2.csv 파일이 구글 드라이브의 /content/drive/My Drive/Colab Notebooks/인문LLM/모델용 경로에 저장되었습니다.\n",
            "classified_titles_chunk_1.xlsx 파일이 구글 드라이브의 /content/drive/My Drive/Colab Notebooks/인문LLM/모델용 경로에 저장되었습니다.\n",
            "kci_titles.csv 파일이 구글 드라이브의 /content/drive/My Drive/Colab Notebooks/인문LLM/모델용 경로에 저장되었습니다.\n",
            "classified_titles_chunk_12.csv 파일이 구글 드라이브의 /content/drive/My Drive/Colab Notebooks/인문LLM/모델용 경로에 저장되었습니다.\n",
            "classified_titles.xlsx 파일이 구글 드라이브의 /content/drive/My Drive/Colab Notebooks/인문LLM/모델용 경로에 저장되었습니다.\n",
            "classified_titles_chunk_2.csv 파일이 구글 드라이브의 /content/drive/My Drive/Colab Notebooks/인문LLM/모델용 경로에 저장되었습니다.\n",
            "classified_titles_chunk_7.csv 파일이 구글 드라이브의 /content/drive/My Drive/Colab Notebooks/인문LLM/모델용 경로에 저장되었습니다.\n",
            "classified_titles_chunk_10.csv 파일이 구글 드라이브의 /content/drive/My Drive/Colab Notebooks/인문LLM/모델용 경로에 저장되었습니다.\n",
            "classified_titles_chunk_9.csv 파일이 구글 드라이브의 /content/drive/My Drive/Colab Notebooks/인문LLM/모델용 경로에 저장되었습니다.\n",
            "모든 .csv 및 .xlsx 파일이 구글 드라이브에 저장되었습니다.\n"
          ]
        }
      ],
      "source": [
        "# 생성한 .csv , .xlsx, .json 파일을 모두 드라이브에 다운로드\n",
        "\n",
        "from google.colab import drive\n",
        "from google.colab import files\n",
        "import os\n",
        "\n",
        "# 구글 드라이브 마운트\n",
        "drive.mount('/content/drive')\n",
        "\n",
        "# 파일을 저장할 구글 드라이브 경로 설정\n",
        "save_path = \"/content/drive/My Drive/Colab Notebooks/인문LLM/모델용\"  # 원하는 경로로 수정 가능\n",
        "\n",
        "# 현재 디렉토리의 모든 파일을 확인\n",
        "for file in os.listdir():\n",
        "    # .csv 또는 .xlsx 파일인 경우\n",
        "    if file.endswith(('.csv', '.xlsx', '.json')):\n",
        "        # 파일을 구글 드라이브로 복사\n",
        "        !cp \"{file}\" \"{save_path}\"\n",
        "        print(f\"{file} 파일이 구글 드라이브의 {save_path} 경로에 저장되었습니다.\")\n",
        "\n",
        "print(\"모든 .csv 및 .xlsx 파일이 구글 드라이브에 저장되었습니다.\")"
      ]
    },
    {
      "cell_type": "markdown",
      "metadata": {
        "id": "IhD7yEzmBpVY"
      },
      "source": [
        "# 카테고리 필터링\n"
      ]
    },
    {
      "cell_type": "code",
      "execution_count": null,
      "metadata": {
        "colab": {
          "base_uri": "https://localhost:8080/"
        },
        "id": "BUwpW0vfUgvP",
        "outputId": "dd642ff0-f9d3-4275-a23e-e2d07da67b2b"
      },
      "outputs": [
        {
          "name": "stdout",
          "output_type": "stream",
          "text": [
            "df의 행 개수: 133118\n",
            "filtered_df의 행 개수: 131464\n",
            "filtered_more_df의 행 개수: 108626\n"
          ]
        }
      ],
      "source": [
        "# CSV 파일 읽기\n",
        "df = pd.read_csv('classified_titles.csv')\n",
        "\n",
        "# '카테고리'열에서 사회과학, 기독교신학, 문학, 언어학, 역사학, 철학, 통역번역학, 기타인문학, 관련없음만 추출\n",
        "filtered_df = df[df['카테고리'].isin(['사회과학', '기독교신학', '문학', '언어학', '역사학', '철학', '통역번역학', '기타인문학', '관련없음'])]\n",
        "\n",
        "# filtered_df에서 '사회과학', '기독교신학'을 뺀 filtered_more_df\n",
        "filtered_more_df = filtered_df[~filtered_df['카테고리'].isin(['사회과학', '기독교신학'])]\n",
        "\n",
        "# df와 filtered_df의 개수와 비교\n",
        "print(f\"df의 행 개수: {len(df)}\")\n",
        "print(f\"filtered_df의 행 개수: {len(filtered_df)}\")\n",
        "print(f\"filtered_more_df의 행 개수: {len(filtered_more_df)}\")"
      ]
    },
    {
      "cell_type": "code",
      "execution_count": null,
      "metadata": {
        "colab": {
          "base_uri": "https://localhost:8080/"
        },
        "id": "vTCTTmGYXBw7",
        "outputId": "7836b580-b8ef-4329-bf1c-06e81b84c294"
      },
      "outputs": [
        {
          "data": {
            "text/plain": [
              "[('문학', 29559),\n",
              " ('역사학', 28970),\n",
              " ('기타인문학', 20109),\n",
              " ('철학', 15176),\n",
              " ('사회과학', 12418),\n",
              " ('언어학', 11555),\n",
              " ('기독교신학', 10420),\n",
              " ('관련없음', 2165),\n",
              " ('통역번역학', 1092),\n",
              " ('교육학', 416),\n",
              " ('영화학', 121),\n",
              " ('문화연구', 120),\n",
              " ('심리학', 86),\n",
              " ('법학', 82),\n",
              " ('신학', 56),\n",
              " ('민속학', 56),\n",
              " ('미술사', 53),\n",
              " ('미술', 46),\n",
              " ('고고학', 41),\n",
              " ('문화인류학', 38),\n",
              " ('사회학', 35),\n",
              " ('정치학', 31),\n",
              " ('여성학', 25),\n",
              " ('종교학', 24),\n",
              " ('예술학', 24),\n",
              " ('영화연구', 18),\n",
              " ('예술', 18),\n",
              " ('경제학', 17),\n",
              " ('번역학', 15),\n",
              " ('음악학', 14),\n",
              " ('미학', 14),\n",
              " ('미디어학', 14),\n",
              " ('군사학', 11),\n",
              " ('음악', 10),\n",
              " ('연극학', 9),\n",
              " ('문학이론', 9),\n",
              " ('문화재학', 8),\n",
              " ('문헌학', 7),\n",
              " ('지리학', 6),\n",
              " ('문화학', 6),\n",
              " ('문화콘텐츠', 6),\n",
              " ('의료윤리', 6),\n",
              " ('사회복지학', 5),\n",
              " ('인문학', 5),\n",
              " ('환경학', 5),\n",
              " ('신화학', 5),\n",
              " ('건축학', 5),\n",
              " ('불교학', 5),\n",
              " ('수학', 5),\n",
              " ('윤리학', 4),\n",
              " ('성경학', 4),\n",
              " ('문화사', 4),\n",
              " ('관계없음', 4),\n",
              " ('의학', 4),\n",
              " ('기독교교육학', 3),\n",
              " ('상담학', 3),\n",
              " ('정보학', 3),\n",
              " ('수사학', 3),\n",
              " ('중국학', 3),\n",
              " ('관광학', 3),\n",
              " ('국제관계', 3),\n",
              " ('박물관학', 3),\n",
              " ('물리학', 3),\n",
              " ('과학철학', 3),\n",
              " ('상담심리학', 2),\n",
              " ('심리학과 신학의 관계는 인문학적 접근으로 볼 수 있으나, 주제에 따라 기독교신학으로 분류할 수 있음', 2),\n",
              " ('디지털 인문학', 2),\n",
              " ('경제사', 2),\n",
              " ('문화예술', 2),\n",
              " ('미술사학', 2),\n",
              " ('광고학', 2),\n",
              " ('불교', 2),\n",
              " ('젠더연구', 2),\n",
              " ('한국철학', 2),\n",
              " ('아동문학', 2),\n",
              " ('문화유산연구', 2),\n",
              " ('고고학(기타인문학)', 2),\n",
              " ('동양철학', 2),\n",
              " ('이민학', 2),\n",
              " ('경영학', 2),\n",
              " ('불교철학', 2),\n",
              " ('간호학', 2),\n",
              " ('신경과학', 2),\n",
              " ('논리학', 2),\n",
              " ('문학교육', 2),\n",
              " ('선교학', 1),\n",
              " ('목회학', 1),\n",
              " ('구약학', 1),\n",
              " ('기독교교육', 1),\n",
              " ('인권학', 1),\n",
              " ('교회사', 1),\n",
              " ('미디어/커뮤니케이션', 1),\n",
              " ('환경교육', 1),\n",
              " ('정책연구(기타인문학)', 1),\n",
              " ('행정학', 1),\n",
              " ('유교학', 1),\n",
              " ('커뮤니케이션학', 1),\n",
              " ('미술/디자인/기타', 1),\n",
              " ('문화콘텐츠 스토리텔링의 현황과 전망', 1),\n",
              " ('도시연구', 1),\n",
              " ('과학기술사회학', 1),\n",
              " ('약리학', 1),\n",
              " ('한국사', 1),\n",
              " ('북한학', 1),\n",
              " ('문화기술', 1),\n",
              " ('언론학', 1),\n",
              " ('문헌정보학', 1),\n",
              " ('문화콘텐츠연구', 1),\n",
              " ('문화재', 1),\n",
              " ('문화비교', 1),\n",
              " ('인문학이지만 위 카테고리에 해당하지 않음', 1),\n",
              " ('인류학', 1),\n",
              " ('다문화연구', 1),\n",
              " ('교육학(기타)', 1),\n",
              " ('문화관광학', 1),\n",
              " ('문화재연구', 1),\n",
              " ('문화기타인문학', 1),\n",
              " ('예술기타인문학', 1),\n",
              " ('미술시장', 1),\n",
              " ('정치경제학', 1),\n",
              " ('문학교육학', 1),\n",
              " ('문학관학', 1),\n",
              " ('문학사', 1),\n",
              " ('젠더학', 1),\n",
              " ('미술학', 1),\n",
              " ('과학기술사', 1),\n",
              " ('생태학', 1),\n",
              " ('문화정치', 1),\n",
              " ('고대사', 1),\n",
              " ('리더십 연구', 1),\n",
              " ('도시계획', 1),\n",
              " ('음악학(기타인문학)', 1),\n",
              " ('문화콘텐츠학', 1),\n",
              " ('국제법', 1),\n",
              " ('의약학', 1),\n",
              " ('환경과학', 1),\n",
              " ('영화', 1),\n",
              " ('고대사연구', 1),\n",
              " ('생명윤리학', 1),\n",
              " ('과학기술/사회과학', 1),\n",
              " ('의료사회학', 1),\n",
              " ('법철학', 1),\n",
              " ('불교신학', 1),\n",
              " ('연구윤리', 1),\n",
              " ('여성학(기타인문학)', 1),\n",
              " ('문화철학', 1),\n",
              " ('자연과학', 1),\n",
              " ('문화과학', 1),\n",
              " ('환경철학', 1),\n",
              " ('약물학', 1),\n",
              " ('과학교육', 1),\n",
              " ('의학사', 1),\n",
              " ('의학윤리학', 1),\n",
              " ('역사철학', 1),\n",
              " ('외국어교육', 1),\n",
              " ('예술경영', 1),\n",
              " ('기독교문학', 1),\n",
              " ('기타', 1),\n",
              " ('번역번역학', 1),\n",
              " ('영화학(기타인문학)', 1),\n",
              " ('역사학(기타인문학)', 1),\n",
              " ('교육학(기타인문학)', 1),\n",
              " ('문화교육', 1),\n",
              " ('구비문학의 사회적 소통과 정서적 공감 기능', 1),\n",
              " ('아동발달', 1),\n",
              " ('컴퓨터과학', 1),\n",
              " ('출판학', 1),\n",
              " ('언어교육', 1),\n",
              " ('언어철학', 1),\n",
              " ('비교문학', 1)]"
            ]
          },
          "execution_count": 128,
          "metadata": {},
          "output_type": "execute_result"
        }
      ],
      "source": [
        "# df에 존재하는 모든 카테고리들의 len을 print해줘. lambda 써서 빈도 순으로\n",
        "bindo = {category: len(df[df['카테고리'] == category]) for category in df['카테고리'].unique()}\n",
        "bindo = sorted(bindo.items(), key=lambda x: x[1], reverse=True)\n",
        "bindo\n",
        "\n",
        "# # 416 이하의 빈도는 모두 더해서 print 해줘\n",
        "# total = sum(count for category, count in bindo if count <= 416)\n",
        "# #print(total)"
      ]
    },
    {
      "cell_type": "code",
      "execution_count": null,
      "metadata": {
        "id": "QUMgnBI-YW61"
      },
      "outputs": [],
      "source": [
        "filtered_more_df.to_csv('filtered_more_df.csv', index=False)\n",
        "filtered_more_df.to_excel('filtered_more_df.xlsx', index=False)"
      ]
    },
    {
      "cell_type": "code",
      "execution_count": null,
      "metadata": {
        "colab": {
          "base_uri": "https://localhost:8080/"
        },
        "id": "F47y2bYVZpwt",
        "outputId": "4aa95338-1bbc-4eb3-bf41-1dd2921c61b0"
      },
      "outputs": [
        {
          "name": "stdout",
          "output_type": "stream",
          "text": [
            "108626\n"
          ]
        }
      ],
      "source": [
        "import json\n",
        "import pandas as pd\n",
        "\n",
        "# CSV 파일에서 id 목록 읽기\n",
        "df = pd.read_csv('filtered_more_df.csv')\n",
        "valid_ids = set(df['ID'].astype(str))  # id를 문자열로 변환\n",
        "\n",
        "# JSON 파일 읽기\n",
        "with open('crawl_kci.json', 'r', encoding='utf-8') as f:\n",
        "    data = json.load(f)\n",
        "\n",
        "# 유효한 id만 남기기\n",
        "filtered_data = {k: v for k, v in data.items() if k in valid_ids}\n",
        "print(len(filtered_data))\n",
        "\n",
        "# 결과 저장\n",
        "with open('filtered_crawl_kci.json', 'w', encoding='utf-8') as f:\n",
        "    json.dump(filtered_data, f, ensure_ascii=False, indent=2)"
      ]
    }
  ],
  "metadata": {
    "colab": {
      "provenance": []
    },
    "kernelspec": {
      "display_name": "Python 3",
      "name": "python3"
    },
    "language_info": {
      "name": "python"
    }
  },
  "nbformat": 4,
  "nbformat_minor": 0
}
