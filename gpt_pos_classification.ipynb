{
  "cells": [
    {
      "cell_type": "code",
      "execution_count": null,
      "metadata": {
        "id": "LH3XcVInvTqR"
      },
      "outputs": [],
      "source": [
        "!pip install openai --quiet"
      ]
    },
    {
      "cell_type": "code",
      "execution_count": null,
      "metadata": {
        "colab": {
          "base_uri": "https://localhost:8080/"
        },
        "id": "yci3rpD3vY3D",
        "outputId": "48999f34-8ed9-4486-8efb-e378eae34ce3"
      },
      "outputs": [
        {
          "name": "stdout",
          "output_type": "stream",
          "text": [
            "Drive already mounted at /content/drive; to attempt to forcibly remount, call drive.mount(\"/content/drive\", force_remount=True).\n"
          ]
        }
      ],
      "source": [
        "from google.colab import drive\n",
        "\n",
        "# Google Drive 마운트\n",
        "drive.mount('/content/drive')"
      ]
    },
    {
      "cell_type": "code",
      "execution_count": null,
      "metadata": {
        "colab": {
          "base_uri": "https://localhost:8080/"
        },
        "id": "yorPdSMzwkc3",
        "outputId": "7cc6fa83-0571-49f2-b8bf-47380d0153fb"
      },
      "outputs": [
        {
          "name": "stdout",
          "output_type": "stream",
          "text": [
            " NanumGothic.ttf\t       '단어분류.ipynb의 사본'\t 입력텍스트실험.ipynb\n",
            " poems_by_poet.gsheet\t        버트.ipynb\t\t 차다_2023_news_sentences.csv\n",
            " v1_classified_sentences.csv    시험.ipynb\t\t'차다_2023_talk_sentences.csv의 사본'\n",
            " v1_classified_sentences.xlsx   실험.ipynb\t\t 차다_통합.csv\n",
            " 단어분류.ipynb\t\t        싸다_통합.csv\t\t 타다_통합.csv\n"
          ]
        }
      ],
      "source": [
        "file_path = '/content/drive/MyDrive/글평가'\n",
        "\n",
        "!ls {file_path}"
      ]
    },
    {
      "cell_type": "code",
      "execution_count": null,
      "metadata": {
        "id": "If-jdbEtvjky"
      },
      "outputs": [],
      "source": [
        "import json\n",
        "import csv\n",
        "import pandas as pd\n",
        "from openai import OpenAI\n",
        "\n",
        "# api key 입력\n",
        "client = OpenAI(api_key=\"자신의 키를 입력해주세요.\")"
      ]
    },
    {
      "cell_type": "code",
      "execution_count": null,
      "metadata": {
        "id": "qm_cVshLvuRq"
      },
      "outputs": [],
      "source": [
        "from pydantic import BaseModel\n",
        "\n",
        "class Categorize(BaseModel):\n",
        "    category: str"
      ]
    },
    {
      "cell_type": "code",
      "execution_count": null,
      "metadata": {
        "id": "drFVHYyV3Arj"
      },
      "outputs": [],
      "source": [
        "def classify_word_meaning(sentence):  # <-- 매개변수 이름 변경\n",
        "\n",
        "    # 프롬프트 자체의 상수를 맨 위에 정의해놔도 괜찮을 듯?\n",
        "    # 프롬프트를 고쳐야 하긴 할 듯\n",
        "    # 찬밥, 찬바람 / 장갑, 팔찌, 목걸이, 완장, 전자발찌 / 고뇌에 찬, 야심에 찬 / 찰옥수수, 찰순대\n",
        "    # 가볍게 정의하는 방법 vs 사전적 정의 (뭐가 더 좋을까?)\n",
        "\n",
        "    prompt = f\"\"\"\n",
        "    주어지는 문장에는 용언 '차다'의 활용형 어간이 대괄호로 하이라이트 되어 있습니다. (ex. [차], [찬], [찰], [찹], [참], [찼] 등)\n",
        "    대괄호로 하이라이트 된 어간이 다음 4개의 분류(c1, c2, c3, c4) 중 어떤 의미에 가까운지 판단하세요.\n",
        "\n",
        "    - c1 : 일정한 공간에 사람, 사물, 냄새 따위가 가득하게 되다.\n",
        "    - c2 : 감정이나 기운 따위가 가득하게 되다.\n",
        "    - c3 : 어떤 대상이 흡족하게 마음에 들다.\n",
        "    - c4 : \t어떤 높이나 한도에 이르는 상태가 되다.\n",
        "    - etc : 위 뜻으로 분류되지 않는 것.\n",
        "\n",
        "    <실전>\n",
        "    {sentence} :\n",
        "    \"\"\"\n",
        "\n",
        "    try:\n",
        "        response = client.beta.chat.completions.parse(\n",
        "            model=\"gpt-4o-mini\",\n",
        "            temperature=0,\n",
        "            messages=[\n",
        "                {\"role\": \"system\", \"content\": \"너는 단어의 뜻을 분류해야 해. 잘 고민하고 느낌을 이해하며 분류해봐.\"},\n",
        "                {\"role\": \"user\", \"content\": prompt}\n",
        "            ],\n",
        "            response_format=Categorize,\n",
        "        )\n",
        "\n",
        "        if response.choices and response.choices[0].message.parsed:\n",
        "            return response.choices[0].message.parsed.category\n",
        "        else:\n",
        "            return \"분류 불가\"  # 응답 구조가 올바르지 않은 경우\n",
        "    except Exception as e:\n",
        "        print(f\"카테고리 분류 중 오류 발생: {e}\")\n",
        "        return \"오류 발생\"  # 오류 발생 시"
      ]
    },
    {
      "cell_type": "code",
      "execution_count": null,
      "metadata": {
        "id": "u79-tsH6_l96"
      },
      "outputs": [],
      "source": [
        "# csv 파일 업로드\n",
        "df = pd.read_csv(file_path + '/v1_classified_sentences.csv')\n",
        "sampled_df = df.sample(n=50, random_state=50)"
      ]
    },
    {
      "cell_type": "markdown",
      "metadata": {
        "id": "kDcQb5Sjw5uJ"
      },
      "source": [
        "# 일부만"
      ]
    },
    {
      "cell_type": "code",
      "execution_count": null,
      "metadata": {
        "id": "52RAEIA_y3Tk"
      },
      "outputs": [],
      "source": [
        "# 일부만\n",
        "\n",
        "from tqdm import tqdm\n",
        "import concurrent.futures\n",
        "\n",
        "tqdm.pandas()\n",
        "\n",
        "# 병렬 처리 함수\n",
        "# max_workers 는 4 이상은 바름. 2는 느리지만 안정적.\n",
        "\n",
        "def classify_parallel(sentences, max_workers=4):\n",
        "    results = []\n",
        "    with concurrent.futures.ProcessPoolExecutor(max_workers=max_workers) as executor:\n",
        "        # map()을 사용하면 입력된 순서대로 결과가 정렬됨\n",
        "        results = list(tqdm(executor.map(classify_word_meaning, sentences), total=len(sentences)))\n",
        "    return results"
      ]
    },
    {
      "cell_type": "code",
      "execution_count": null,
      "metadata": {
        "colab": {
          "base_uri": "https://localhost:8080/"
        },
        "id": "fO1VGPcfw28I",
        "outputId": "ec6f2f9d-5793-454c-9c71-0af2772cc7e4"
      },
      "outputs": [
        {
          "name": "stderr",
          "output_type": "stream",
          "text": [
            "100%|██████████| 50/50 [00:09<00:00,  5.17it/s]"
          ]
        },
        {
          "name": "stdout",
          "output_type": "stream",
          "text": [
            "분류된 문장이 'classified_sentences.csv' 파일로 저장되었습니다.\n"
          ]
        },
        {
          "name": "stderr",
          "output_type": "stream",
          "text": [
            "\n"
          ]
        }
      ],
      "source": [
        "# 병렬 처리 적용 (입력 순서 유지)\n",
        "sampled_df[\"Polysemy\"] = classify_parallel(sampled_df[\"Sentence\"])\n",
        "\n",
        "# CSV 파일로 저장\n",
        "sampled_df.to_csv(\"sampled_classified_sentences.csv\", index=False)\n",
        "print(\"분류된 문장이 'sampled_classified_sentences.csv' 파일로 저장되었습니다.\")"
      ]
    },
    {
      "cell_type": "markdown",
      "metadata": {
        "id": "IybvF9Uzw79w"
      },
      "source": [
        "# 전체"
      ]
    },
    {
      "cell_type": "code",
      "execution_count": null,
      "metadata": {
        "id": "uJJc9BbZxCB-"
      },
      "outputs": [],
      "source": [
        "# 일부만\n",
        "\n",
        "from tqdm import tqdm\n",
        "import concurrent.futures\n",
        "\n",
        "tqdm.pandas()\n",
        "\n",
        "# 병렬 처리 함수\n",
        "# max_workers 는 4 이상은 바름. 2는 느리지만 안정적.\n",
        "\n",
        "def classify_parallel(sentences, max_workers=4):\n",
        "    results = []\n",
        "    with concurrent.futures.ProcessPoolExecutor(max_workers=max_workers) as executor:\n",
        "        # map()을 사용하면 입력된 순서대로 결과가 정렬됨\n",
        "        results = list(tqdm(executor.map(classify_word_meaning, sentences), total=len(sentences)))\n",
        "    return results"
      ]
    },
    {
      "cell_type": "code",
      "execution_count": null,
      "metadata": {
        "colab": {
          "base_uri": "https://localhost:8080/"
        },
        "id": "pJFwoYb-Fw2J",
        "outputId": "bf38c866-94f6-4b11-ac90-436680c6fb00"
      },
      "outputs": [
        {
          "name": "stderr",
          "output_type": "stream",
          "text": [
            "100%|██████████| 997/997 [02:37<00:00,  6.33it/s]"
          ]
        },
        {
          "name": "stdout",
          "output_type": "stream",
          "text": [
            "분류된 문장이 'classified_sentences.csv' 파일로 저장되었습니다.\n"
          ]
        },
        {
          "name": "stderr",
          "output_type": "stream",
          "text": [
            "\n"
          ]
        }
      ],
      "source": [
        "# 전체\n",
        "\n",
        "df[\"Polysemy\"] = classify_parallel(df[\"Sentence\"])\n",
        "\n",
        "# CSV 파일로 저장\n",
        "df.to_csv(\"classified_sentences.csv\", index=False)\n",
        "print(\"분류된 문장이 'classified_sentences.csv' 파일로 저장되었습니다.\")"
      ]
    },
    {
      "cell_type": "code",
      "execution_count": null,
      "metadata": {
        "id": "TkWeDxC6HCnG"
      },
      "outputs": [],
      "source": [
        "# classified_sentences.csv 를 xlsx로 변경\n",
        "\n",
        "classified_df = pd.read_csv(\"classified_sentences.csv\")\n",
        "classified_df.to_excel(\"classified_sentences.xlsx\", index=False)"
      ]
    }
  ],
  "metadata": {
    "colab": {
      "provenance": []
    },
    "kernelspec": {
      "display_name": "Python 3",
      "name": "python3"
    },
    "language_info": {
      "name": "python"
    }
  },
  "nbformat": 4,
  "nbformat_minor": 0
}
